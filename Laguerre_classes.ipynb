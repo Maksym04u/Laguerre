{
 "cells": [
  {
   "cell_type": "code",
   "execution_count": 129,
   "id": "96f37349-d392-493f-a35f-12fd553adf9a",
   "metadata": {
    "tags": []
   },
   "outputs": [],
   "source": [
    "import numpy as np\n",
    "import pandas as pd\n",
    "import unittest\n",
    "import ipywidgets as widgets\n",
    "import matplotlib.pyplot as plt\n",
    "    "
   ]
  },
  {
   "cell_type": "code",
   "execution_count": 153,
   "id": "041ed956-f9af-4d77-9724-5fc93fed59e4",
   "metadata": {
    "tags": []
   },
   "outputs": [],
   "source": [
    "\n",
    "class Laguerre:\n",
    "    def __init__(self, beta=2, sigma=4):\n",
    "        self._beta = beta\n",
    "        self._sigma = sigma\n",
    "        \n",
    "    \n",
    "    @property\n",
    "    def sigma(self):\n",
    "        return self._sigma\n",
    "    \n",
    "    @sigma.setter\n",
    "    def sigma(self, value):\n",
    "        if not isinstance(value, (int, float)):\n",
    "            raise ValueError(\"sigma must be a number\")\n",
    "        elif self.beta > value:\n",
    "            raise ValueError(\"sigma must be greater than beta\")\n",
    "        self._sigma = value\n",
    "    \n",
    "    @property\n",
    "    def beta(self):\n",
    "        return self._beta\n",
    "    \n",
    "    @beta.setter\n",
    "    def beta(self, value):\n",
    "        if not isinstance(value, (int, float)):\n",
    "            raise ValueError(\"beta must be a number\")\n",
    "        elif self.sigma < value:\n",
    "            raise ValueError(\"beta must be less than sigma\")\n",
    "        self._beta = value\n",
    "\n",
    "    def laguerre(self, t, n):\n",
    "        if self.beta > self.sigma or self.beta < 0:\n",
    "            raise ValueError(\"Wrong beta and omega\")\n",
    "        \n",
    "        l_0 = np.sqrt(self.sigma) * (np.exp(-self.beta * t / 2))\n",
    "        l_1 = np.sqrt(self.sigma) * (1 - self.sigma * t) * (np.exp(-self.beta * t / 2))\n",
    "\n",
    "        if n == 0:\n",
    "            return l_0\n",
    "        elif n == 1:\n",
    "            return l_1\n",
    "        \n",
    "        l_next = (3 - t * self.sigma) / 2 * l_1 - 0.5 * l_0\n",
    "        for j in range(3, n+1):\n",
    "            l_0 = l_1\n",
    "            l_1 = l_next\n",
    "            l_next = (2 * j - 1 - t * self.sigma) / j * l_1 - (j - 1) / j * l_0\n",
    "        return l_next\n",
    "    \n",
    "    def tabulate_laguerre(self, n, T):\n",
    "        steps = np.linspace(0, T, 100)\n",
    "        res = [self.laguerre(t, n) for t in steps]\n",
    "        res_df = pd.DataFrame({\"n\": steps, \"result\": res})\n",
    "        return res_df\n",
    "    \n",
    "    def experiment(self, eps=0.001):\n",
    "        N = 20\n",
    "        t = 0\n",
    "        while True:\n",
    "            t += 0.001\n",
    "            res = []\n",
    "            flag = True\n",
    "            for i in range(N):\n",
    "                val = abs(self.laguerre(t, i))\n",
    "                if val > eps:\n",
    "                    flag = False\n",
    "                    break\n",
    "                res.append(val)\n",
    "            if flag:\n",
    "                return t, pd.DataFrame({\"n\": range(N), \"res\": res})\n",
    "    \n",
    "    def rects_integral(self, f, T, N=1000):\n",
    "        step = T / N\n",
    "        integral = 0\n",
    "        for i in range(N):\n",
    "            t = i * step\n",
    "            integral += f(t) * step\n",
    "        return integral\n",
    "    \n",
    "    \n",
    "    \n",
    "    def laguerre_transformation(self, f, n, T):\n",
    "        alpha = self.beta - self.sigma\n",
    "        integrand = lambda t: f(t) * self.laguerre(t, n) * np.exp(-t * alpha)\n",
    "        result = self.rects_integral(integrand, T)\n",
    "        return result\n",
    "    \n",
    "    def tab_transformation(self, f, T, N=20):\n",
    "        t = range(1, N+1)\n",
    "        results = [self.laguerre_transformation(f, n, T) for n in t]\n",
    "        return results\n",
    "\n",
    "    def reverse_laguerre_transformation(self, lst, t):\n",
    "        return sum([lst[i] * self.laguerre(t, i) for i in range(len(lst))])\n",
    "    \n",
    "    def plot_laguerre(self, T, N):\n",
    "        fig = plt.figure(figsize=(10, 10))\n",
    "        ax = fig.gca()\n",
    "        for n in range(N+1):\n",
    "            values = self.tabulate_laguerre(n, T)\n",
    "            ax.plot(values['n'], values['result'], label=f\"n={n}\")\n",
    "        \n",
    "        ax.set_xlabel(\"t\")\n",
    "        ax.set_ylabel(\"l(t)\")\n",
    "        fig.legend(loc='lower center', ncol=4)\n",
    "        plt.show()\n",
    "    \n",
    "    def plot_transformation(self, f, n, T):\n",
    "        fig = plt.figure(figsize=(10, 10))\n",
    "        ax = fig.gca()\n",
    "        values = self.tab_transformation(f, T, n)\n",
    "        ax.bar(range(1, n+1), values)\n",
    "\n",
    "        ax.set_xlabel(\"n\")\n",
    "        ax.set_ylabel(\"f_n\")\n",
    "        ax.set_title(\"Laguerre Transformation\")\n",
    "        plt.axhline(0, color='black')\n",
    "        plt.show()\n",
    "        \n",
    "    def plot_transformations(self, f, n, T, t1=0, t2=2*np.pi):\n",
    "        transform_values = self.tab_transformation(f, T, n)\n",
    "        reversed_transform_values = [self.reverse_laguerre_transformation(transform_values, t) for t in np.linspace(t1, t2, 1000)]\n",
    "\n",
    "        fig, axs = plt.subplots(2, 1, figsize=(10, 10))\n",
    "\n",
    "        axs[0].bar(range(1, n+1), transform_values, alpha=0.7, edgecolor='black')\n",
    "        axs[0].set_xlabel(\"n\")\n",
    "        axs[0].set_ylabel(\"f_n\")\n",
    "        axs[0].set_title(\"Transformation coefs\")\n",
    "        axs[0].set_xticks(range(1, n+1))\n",
    "        axs[0].axhline(0, color='black')\n",
    "\n",
    "        axs[1].plot(np.linspace(t1, t2, 1000), reversed_transform_values, alpha=0.7, linewidth=2.0)\n",
    "        axs[1].set_xlabel(\"t\")\n",
    "        axs[1].set_ylabel(\"f(t)\")\n",
    "        axs[1].set_title(\"Reversed transformation\")\n",
    "\n",
    "        plt.tight_layout()\n",
    "        plt.show()\n",
    "    "
   ]
  },
  {
   "cell_type": "code",
   "execution_count": null,
   "id": "854bd495-48d0-4baf-b63c-6514f5881fc2",
   "metadata": {
    "tags": []
   },
   "outputs": [],
   "source": []
  },
  {
   "cell_type": "code",
   "execution_count": 154,
   "id": "d26bb904-6ef2-4c65-a144-5fbb9d340414",
   "metadata": {
    "tags": []
   },
   "outputs": [],
   "source": [
    "class TestLaguerre(unittest.TestCase):\n",
    "    def setUp(self):\n",
    "        self.laguerre_instance = Laguerre(beta=1, sigma=5)\n",
    "\n",
    "    def test_laguerre(self):\n",
    "        self.assertAlmostEqual(self.laguerre_instance.laguerre(0, 0), 2.23606797749979)\n",
    "        self.assertAlmostEqual(self.laguerre_instance.laguerre(1, 3), 3.6166500948139766)\n",
    "\n",
    "    def test_tabulate_laguerre(self):\n",
    "        tabulated_values = self.laguerre_instance.tabulate_laguerre(2, 10)\n",
    "        self.assertEqual(len(tabulated_values), 100)\n",
    "        self.assertIsInstance(tabulated_values, pd.DataFrame)\n",
    "\n",
    "    def test_experiment(self):\n",
    "        t, result_df = self.laguerre_instance.experiment(eps=0.03)\n",
    "        self.assertAlmostEqual(t, 189.64000000054145)\n",
    "        self.assertEqual(len(result_df), 20)\n",
    "\n",
    "    def test_laguerre_transformation(self):\n",
    "        def f(t):\n",
    "            if t >= 0 and t <= 2*np.pi:\n",
    "                return np.sin(t-np.pi/2) + 1\n",
    "            else:\n",
    "                return 0\n",
    "        transformation_result = self.laguerre_instance.laguerre_transformation(f, 5, 10)\n",
    "        self.assertAlmostEqual(transformation_result, -7833210664009.94 )\n",
    "\n",
    "    def test_reverse_laguerre_transformation(self):\n",
    "        def f(t):\n",
    "            if t >= 0 and t <= 2*np.pi:\n",
    "                return np.sin(t-np.pi/2) + 1\n",
    "            else:\n",
    "                return 0\n",
    "        coefficients = self.laguerre_instance.tab_transformation(f, 100)\n",
    "        reversed_transformation_result = self.laguerre_instance.reverse_laguerre_transformation(coefficients, 2)\n",
    "        self.assertAlmostEqual(reversed_transformation_result, -78419345421126.88 )\n",
    "\n"
   ]
  },
  {
   "cell_type": "code",
   "execution_count": 155,
   "id": "76e87951-6fc2-43c4-ace3-6926b0117592",
   "metadata": {
    "tags": []
   },
   "outputs": [
    {
     "name": "stderr",
     "output_type": "stream",
     "text": [
      ".....\n",
      "----------------------------------------------------------------------\n",
      "Ran 5 tests in 20.347s\n",
      "\n",
      "OK\n"
     ]
    },
    {
     "data": {
      "text/plain": [
       "<unittest.main.TestProgram at 0x1810ff02710>"
      ]
     },
     "execution_count": 155,
     "metadata": {},
     "output_type": "execute_result"
    }
   ],
   "source": [
    "unittest.main(argv=[''], exit=False)\n"
   ]
  },
  {
   "cell_type": "code",
   "execution_count": 156,
   "id": "a54553cc-5453-4e99-aa03-75c45a2e5884",
   "metadata": {},
   "outputs": [
    {
     "data": {
      "application/vnd.jupyter.widget-view+json": {
       "model_id": "918efa3b66074b00aeb36e9941d4fd6b",
       "version_major": 2,
       "version_minor": 0
      },
      "text/plain": [
       "interactive(children=(FloatSlider(value=2.5, description='t', max=5.0), IntSlider(value=5, description='n', ma…"
      ]
     },
     "metadata": {},
     "output_type": "display_data"
    },
    {
     "data": {
      "text/plain": [
       "<function ipywidgets.widgets.interaction._InteractFactory.__call__.<locals>.<lambda>(*args, **kwargs)>"
      ]
     },
     "execution_count": 156,
     "metadata": {},
     "output_type": "execute_result"
    }
   ],
   "source": [
    "lag = Laguerre()\n",
    "\n",
    "widgets.interact(lag.laguerre, t=(0.0, 5.0, 0.1), n=(0, 10, 1))\n"
   ]
  },
  {
   "cell_type": "code",
   "execution_count": 157,
   "id": "ff6e8945-3ddb-48c2-b833-d934f21c214e",
   "metadata": {
    "tags": []
   },
   "outputs": [
    {
     "data": {
      "application/vnd.jupyter.widget-view+json": {
       "model_id": "1bf68ef571884e649dd0543e4eb58a71",
       "version_major": 2,
       "version_minor": 0
      },
      "text/plain": [
       "interactive(children=(IntSlider(value=5, description='n', max=10), IntSlider(value=5, description='T', max=10,…"
      ]
     },
     "metadata": {},
     "output_type": "display_data"
    },
    {
     "data": {
      "text/plain": [
       "<function ipywidgets.widgets.interaction._InteractFactory.__call__.<locals>.<lambda>(*args, **kwargs)>"
      ]
     },
     "execution_count": 157,
     "metadata": {},
     "output_type": "execute_result"
    }
   ],
   "source": [
    "widgets.interact(lag.tabulate_laguerre, n=(0, 10, 1), T=(1, 10, 1))\n"
   ]
  },
  {
   "cell_type": "code",
   "execution_count": 158,
   "id": "3dc89696-4535-472a-b815-012d7d382512",
   "metadata": {
    "tags": []
   },
   "outputs": [
    {
     "data": {
      "application/vnd.jupyter.widget-view+json": {
       "model_id": "100c7c9742ff4fcebdb8a13e3b3b884a",
       "version_major": 2,
       "version_minor": 0
      },
      "text/plain": [
       "interactive(children=(FloatSlider(value=0.001, description='eps', max=0.1, step=0.01), Output()), _dom_classes…"
      ]
     },
     "metadata": {},
     "output_type": "display_data"
    },
    {
     "data": {
      "text/plain": [
       "<function ipywidgets.widgets.interaction._InteractFactory.__call__.<locals>.<lambda>(*args, **kwargs)>"
      ]
     },
     "execution_count": 158,
     "metadata": {},
     "output_type": "execute_result"
    }
   ],
   "source": [
    "widgets.interact(lag.experiment, eps=(0, 0.1, 0.01))\n"
   ]
  },
  {
   "cell_type": "code",
   "execution_count": 159,
   "id": "d6346e2c-5946-437f-8129-b5b941e6202f",
   "metadata": {
    "tags": []
   },
   "outputs": [],
   "source": [
    "def f(t):\n",
    "    if 0 <= t <= 2 * np.pi:\n",
    "        return np.sin(t - np.pi / 2) + 1\n",
    "    elif t > 2 * np.pi:\n",
    "        return 0\n",
    "    \n"
   ]
  },
  {
   "cell_type": "code",
   "execution_count": 160,
   "id": "5d590518-b789-4ec7-b6ac-3253a69fe944",
   "metadata": {
    "tags": []
   },
   "outputs": [
    {
     "data": {
      "application/vnd.jupyter.widget-view+json": {
       "model_id": "6b5a3f98fc0844f6b8df8107507ca055",
       "version_major": 2,
       "version_minor": 0
      },
      "text/plain": [
       "interactive(children=(IntSlider(value=50, description='T', min=1), IntSlider(value=20, description='N', max=30…"
      ]
     },
     "metadata": {},
     "output_type": "display_data"
    },
    {
     "data": {
      "text/plain": [
       "<function ipywidgets.widgets.interaction._InteractFactory.__call__.<locals>.<lambda>(*args, **kwargs)>"
      ]
     },
     "execution_count": 160,
     "metadata": {},
     "output_type": "execute_result"
    }
   ],
   "source": [
    "widgets.interact(lag.tab_transformation, f=widgets.fixed(f), T=(1,100,1), N=(1,30,1))\n"
   ]
  },
  {
   "cell_type": "code",
   "execution_count": 161,
   "id": "67827f14-76ed-4e3c-87b4-1d0301e6dc68",
   "metadata": {
    "tags": []
   },
   "outputs": [
    {
     "data": {
      "application/vnd.jupyter.widget-view+json": {
       "model_id": "ae804c9c91f14a2eb2753e1224850679",
       "version_major": 2,
       "version_minor": 0
      },
      "text/plain": [
       "interactive(children=(IntSlider(value=5, description='t', max=10), Output()), _dom_classes=('widget-interact',…"
      ]
     },
     "metadata": {},
     "output_type": "display_data"
    },
    {
     "data": {
      "text/plain": [
       "<function ipywidgets.widgets.interaction._InteractFactory.__call__.<locals>.<lambda>(*args, **kwargs)>"
      ]
     },
     "execution_count": 161,
     "metadata": {},
     "output_type": "execute_result"
    }
   ],
   "source": [
    "lst = lag.tab_transformation(f, 100)\n",
    "widgets.interact(lag.reverse_laguerre_transformation, lst=widgets.fixed(lst), t=(0,10,1))"
   ]
  },
  {
   "cell_type": "code",
   "execution_count": 162,
   "id": "b937f60a-3f1c-49e0-ba0d-0ef437436027",
   "metadata": {
    "tags": []
   },
   "outputs": [
    {
     "data": {
      "application/vnd.jupyter.widget-view+json": {
       "model_id": "2d716dc239d24b70b2b5de57109c9dca",
       "version_major": 2,
       "version_minor": 0
      },
      "text/plain": [
       "interactive(children=(FloatSlider(value=10.0, description='T', max=20.0, step=0.25), IntSlider(value=15, descr…"
      ]
     },
     "metadata": {},
     "output_type": "display_data"
    },
    {
     "data": {
      "text/plain": [
       "<function ipywidgets.widgets.interaction._InteractFactory.__call__.<locals>.<lambda>(*args, **kwargs)>"
      ]
     },
     "execution_count": 162,
     "metadata": {},
     "output_type": "execute_result"
    }
   ],
   "source": [
    "widgets.interact(lag.plot_laguerre, T=(0.0, 20.0, 0.25), N=(0, 30, 1))\n"
   ]
  },
  {
   "cell_type": "code",
   "execution_count": 163,
   "id": "28239ec6-4f0d-494c-b4a9-a8be9a8fbd4e",
   "metadata": {
    "tags": []
   },
   "outputs": [
    {
     "data": {
      "application/vnd.jupyter.widget-view+json": {
       "model_id": "60cf1868bb50410a83ed4207fcc32016",
       "version_major": 2,
       "version_minor": 0
      },
      "text/plain": [
       "interactive(children=(IntSlider(value=15, description='n', max=30), FloatSlider(value=10.0, description='T', m…"
      ]
     },
     "metadata": {},
     "output_type": "display_data"
    },
    {
     "data": {
      "text/plain": [
       "<function ipywidgets.widgets.interaction._InteractFactory.__call__.<locals>.<lambda>(*args, **kwargs)>"
      ]
     },
     "execution_count": 163,
     "metadata": {},
     "output_type": "execute_result"
    }
   ],
   "source": [
    "widgets.interact(lag.plot_transformation, f=widgets.fixed(f), T=(0.0, 20.0, 0.25), n=(0, 30, 1))"
   ]
  },
  {
   "cell_type": "code",
   "execution_count": 165,
   "id": "ed713c4e-e4d4-43fa-b826-49db634f1840",
   "metadata": {
    "tags": []
   },
   "outputs": [
    {
     "data": {
      "application/vnd.jupyter.widget-view+json": {
       "model_id": "c3f3c3b6c2c74785b30f8a948ee96af8",
       "version_major": 2,
       "version_minor": 0
      },
      "text/plain": [
       "interactive(children=(IntSlider(value=15, description='n', max=30), FloatSlider(value=10.0, description='T', m…"
      ]
     },
     "metadata": {},
     "output_type": "display_data"
    },
    {
     "data": {
      "text/plain": [
       "<function ipywidgets.widgets.interaction._InteractFactory.__call__.<locals>.<lambda>(*args, **kwargs)>"
      ]
     },
     "execution_count": 165,
     "metadata": {},
     "output_type": "execute_result"
    }
   ],
   "source": [
    "widgets.interact(lag.plot_transformations, f=widgets.fixed(f),  T=(0.0, 20.0, 0.25), n=(0, 30, 1), t1=(-5*np.pi, 5*np.pi, np.pi), t2=(-5*np.pi, 5*np.pi, np.pi))\n"
   ]
  },
  {
   "cell_type": "code",
   "execution_count": null,
   "id": "64e8af74-bea4-4c43-9a86-f45a80c08fd5",
   "metadata": {},
   "outputs": [],
   "source": []
  }
 ],
 "metadata": {
  "kernelspec": {
   "display_name": "Python 3 (ipykernel)",
   "language": "python",
   "name": "python3"
  },
  "language_info": {
   "codemirror_mode": {
    "name": "ipython",
    "version": 3
   },
   "file_extension": ".py",
   "mimetype": "text/x-python",
   "name": "python",
   "nbconvert_exporter": "python",
   "pygments_lexer": "ipython3",
   "version": "3.11.5"
  }
 },
 "nbformat": 4,
 "nbformat_minor": 5
}
