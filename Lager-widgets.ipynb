{
 "cells": [
  {
   "cell_type": "code",
   "execution_count": 1,
   "id": "7c0178bd-4fbb-4725-98a8-281ce0bfb767",
   "metadata": {
    "tags": []
   },
   "outputs": [],
   "source": [
    "import numpy as np\n",
    "import matplotlib.pyplot as plt\n",
    "import pandas as pd\n",
    "import ipywidgets as widgets\n",
    "from ipywidgets import interact, interactive, interact_manual, interactive_output, IntSlider, FloatSlider, fixed\n"
   ]
  },
  {
   "cell_type": "code",
   "execution_count": 2,
   "id": "bb2f8e55-e186-4887-b43c-49c274f3da76",
   "metadata": {
    "tags": []
   },
   "outputs": [],
   "source": [
    "# Task 1\n",
    "\n",
    "def laguerre(t, n, beta=2, sigma=4):\n",
    "    if beta > sigma or beta < 0:\n",
    "        raise ValueError(\"Wrong beta and sigma\")\n",
    "    \n",
    "    l_0 = np.sqrt(sigma) * (np.exp(-beta * t / 2))\n",
    "    l_1 = np.sqrt(sigma) * (1 - sigma * t) * (np.exp(-beta * t / 2))\n",
    "\n",
    "    if n == 0:\n",
    "        return l_0\n",
    "    elif n == 1:\n",
    "        return l_1\n",
    "    \n",
    "    l_next = (3 - t * sigma) / 2 * l_1 - 0.5 * l_0\n",
    "    for j in range(3, n+1):\n",
    "        l_0 = l_1\n",
    "        l_1 = l_next\n",
    "        l_next = (2 * j - 1 - t * sigma) / j * l_1 - (j - 1) / j * l_0\n",
    "    return l_next"
   ]
  },
  {
   "cell_type": "code",
   "execution_count": 3,
   "id": "5bc537d8-04c5-427e-9b12-41fb2d2ead2c",
   "metadata": {
    "tags": []
   },
   "outputs": [
    {
     "data": {
      "application/vnd.jupyter.widget-view+json": {
       "model_id": "faaf6ba58db048ad8328ee134aa7cfb6",
       "version_major": 2,
       "version_minor": 0
      },
      "text/plain": [
       "interactive(children=(FloatSlider(value=2.5, description='t', max=5.0), IntSlider(value=5, description='n', ma…"
      ]
     },
     "metadata": {},
     "output_type": "display_data"
    },
    {
     "data": {
      "text/plain": [
       "<function __main__.laguerre(t, n, beta=2, sigma=4)>"
      ]
     },
     "execution_count": 3,
     "metadata": {},
     "output_type": "execute_result"
    }
   ],
   "source": [
    "widgets.interact(laguerre, t=(0.0, 5.0, 0.1), n=(0, 10, 1), beta=(0, 6, 0.1), sigma=(0, 6, 0.1))"
   ]
  },
  {
   "cell_type": "code",
   "execution_count": null,
   "id": "d8220901-3d84-4de2-994b-17ea119b2ba0",
   "metadata": {
    "tags": []
   },
   "outputs": [],
   "source": []
  },
  {
   "cell_type": "code",
   "execution_count": 4,
   "id": "8c35f6c7-609d-4dac-8ff4-07e915614d85",
   "metadata": {
    "tags": []
   },
   "outputs": [
    {
     "data": {
      "application/vnd.jupyter.widget-view+json": {
       "model_id": "d273d5e50e9946e69ff550b044ce9132",
       "version_major": 2,
       "version_minor": 0
      },
      "text/plain": [
       "interactive(children=(IntSlider(value=5, description='n', max=10), IntSlider(value=5, description='T', max=10,…"
      ]
     },
     "metadata": {},
     "output_type": "display_data"
    },
    {
     "data": {
      "text/plain": [
       "<function __main__.tabulate_laguerre(n, T, beta, sigma)>"
      ]
     },
     "execution_count": 4,
     "metadata": {},
     "output_type": "execute_result"
    }
   ],
   "source": [
    "# Task2\n",
    "def tabulate_laguerre(n, T, beta, sigma):\n",
    "    steps = np.linspace(0, T, 100)\n",
    "    res = laguerre(steps, n, beta,sigma)\n",
    "    res_df = pd.DataFrame({\"tab\": steps, \"result\": res})\n",
    "\n",
    "    return res_df\n",
    "\n",
    "widgets.interact(tabulate_laguerre, n=(0, 10, 1), T=(1, 10, 1), beta=(0, 4, 0.1), sigma=(0, 4, 0.1))\n"
   ]
  },
  {
   "cell_type": "code",
   "execution_count": 5,
   "id": "7b8aef84-2f64-4e20-99c8-eaadf48dc171",
   "metadata": {
    "tags": []
   },
   "outputs": [],
   "source": [
    "# Task 3\n",
    "def experiment(beta=2, sigma=4, eps=0.001):\n",
    "    N = 20\n",
    "    t = 0\n",
    "    while True:\n",
    "        t += 0.001\n",
    "        res = []\n",
    "        flag = True\n",
    "        for i in range(N):\n",
    "            val = abs(laguerre(t, i, beta, sigma))\n",
    "            if val > eps:\n",
    "                flag = False\n",
    "                break\n",
    "            res.append(val)\n",
    "        if flag:\n",
    "            return t, pd.DataFrame({\"n\": range(N), \"res\": res})"
   ]
  },
  {
   "cell_type": "code",
   "execution_count": 6,
   "id": "df1474f3-f5d1-43fa-ba1b-d0ff40a7a304",
   "metadata": {
    "tags": []
   },
   "outputs": [
    {
     "data": {
      "application/vnd.jupyter.widget-view+json": {
       "model_id": "fc64222867b047e5a50d3b7350503bec",
       "version_major": 2,
       "version_minor": 0
      },
      "text/plain": [
       "interactive(children=(FloatSlider(value=2.0, description='beta', max=10.0), FloatSlider(value=4.0, description…"
      ]
     },
     "metadata": {},
     "output_type": "display_data"
    },
    {
     "data": {
      "text/plain": [
       "<function __main__.experiment(beta=2, sigma=4, eps=0.001)>"
      ]
     },
     "execution_count": 6,
     "metadata": {},
     "output_type": "execute_result"
    }
   ],
   "source": [
    "widgets.interact(experiment, beta=(0,10,0.1), sigma=(0,10,0.1), eps=(0, 0.001, 0.0001))"
   ]
  },
  {
   "cell_type": "code",
   "execution_count": 7,
   "id": "62ee2770-c132-4771-a7a2-1fb363c3b8b2",
   "metadata": {
    "tags": []
   },
   "outputs": [],
   "source": [
    "# Task 4\n",
    "def rects_integral(f, T, N=1000):\n",
    "    step = T / N\n",
    "    integral = 0\n",
    "\n",
    "    for i in range(N):\n",
    "        t = i * step\n",
    "        integral += f(t) * step\n",
    "\n",
    "    return integral\n"
   ]
  },
  {
   "cell_type": "code",
   "execution_count": 8,
   "id": "8cfc2ce9-1456-4122-b789-f6e7d8ec4eff",
   "metadata": {
    "tags": []
   },
   "outputs": [
    {
     "name": "stdout",
     "output_type": "stream",
     "text": [
      "1.5182450842564033\n",
      "1.0272063651460819\n",
      "1.072205809646119\n",
      "2.009655899987663\n"
     ]
    }
   ],
   "source": [
    "f1= lambda t: np.exp(-2*t**3/3)\n",
    "print(rects_integral(f1, 100,100))\n",
    "print(rects_integral(f1, 100,10000))\n",
    "print(rects_integral(f1, 100, 1000))\n",
    "print(rects_integral(f1, 500, 250))"
   ]
  },
  {
   "cell_type": "code",
   "execution_count": 9,
   "id": "969c9294-288a-423d-881f-fb602d4b7ae4",
   "metadata": {
    "tags": []
   },
   "outputs": [],
   "source": [
    "# Task 5\n",
    "def laguerre_transformation(f, n, T, beta=2, sigma=4):\n",
    "    alpha = beta - sigma\n",
    "    integrand = lambda t: f(t) * laguerre(t, n) * np.exp(-t*alpha)\n",
    "    result = rects_integral(integrand, T)\n",
    "    return result"
   ]
  },
  {
   "cell_type": "code",
   "execution_count": 10,
   "id": "dbe270b8-1a88-4e25-bfb9-5ff13b28390b",
   "metadata": {
    "tags": []
   },
   "outputs": [],
   "source": [
    "def f(t):\n",
    "    if 0 <= t <= 2 * np.pi:\n",
    "        return np.sin(t - np.pi / 2) + 1\n",
    "    elif t > 2 * np.pi:\n",
    "        return 0"
   ]
  },
  {
   "cell_type": "code",
   "execution_count": 11,
   "id": "9c526e7a-004d-4397-b793-0aa5ddc9e76d",
   "metadata": {
    "tags": []
   },
   "outputs": [],
   "source": [
    "def tab_transformation(f, T, N=20, beta=2, sigma=4):\n",
    "    t = range(1, N+1)\n",
    "    results = [laguerre_transformation(f, n, T, beta, sigma) for n in t]\n",
    "    return results"
   ]
  },
  {
   "cell_type": "code",
   "execution_count": 12,
   "id": "d8fa6f27-d878-449e-8710-616cc863a2ae",
   "metadata": {
    "tags": []
   },
   "outputs": [
    {
     "data": {
      "application/vnd.jupyter.widget-view+json": {
       "model_id": "b3d708ea1c4c47148ee7a420e5c835ab",
       "version_major": 2,
       "version_minor": 0
      },
      "text/plain": [
       "interactive(children=(IntSlider(value=50, description='T', min=1), IntSlider(value=20, description='N', max=30…"
      ]
     },
     "metadata": {},
     "output_type": "display_data"
    },
    {
     "data": {
      "text/plain": [
       "<function __main__.tab_transformation(f, T, N=20, beta=2, sigma=4)>"
      ]
     },
     "execution_count": 12,
     "metadata": {},
     "output_type": "execute_result"
    }
   ],
   "source": [
    "widgets.interact(tab_transformation, f=widgets.fixed(f), T=(1,100,1), N=(1,30,1), beta=(0,10,0.1), sigma=(0,10,0.1))"
   ]
  },
  {
   "cell_type": "code",
   "execution_count": 13,
   "id": "b002c818-e1bf-4959-87d2-d5ed2d4820a9",
   "metadata": {
    "tags": []
   },
   "outputs": [],
   "source": [
    "# Task6\n",
    "def reverse_laguerre_transformation(lst, t, beta=2 , sigma=4):\n",
    "    return sum([lst[i] * laguerre(t, i) for i in range(len(lst))])"
   ]
  },
  {
   "cell_type": "code",
   "execution_count": 14,
   "id": "a73d08fa-1cc3-40ef-99bd-950a4fea2ea7",
   "metadata": {
    "tags": []
   },
   "outputs": [],
   "source": [
    "def f_t(t):\n",
    "    return t"
   ]
  },
  {
   "cell_type": "code",
   "execution_count": 15,
   "id": "5ad03aeb-4b20-4567-9b4b-af4a4b1d8fce",
   "metadata": {
    "tags": []
   },
   "outputs": [
    {
     "data": {
      "application/vnd.jupyter.widget-view+json": {
       "model_id": "b83a5f708a794bcca74139d0e920baee",
       "version_major": 2,
       "version_minor": 0
      },
      "text/plain": [
       "interactive(children=(IntSlider(value=5, description='t', max=10), Output()), _dom_classes=('widget-interact',…"
      ]
     },
     "metadata": {},
     "output_type": "display_data"
    },
    {
     "data": {
      "text/plain": [
       "<function __main__.reverse_laguerre_transformation(lst, t, beta=2, sigma=4)>"
      ]
     },
     "execution_count": 15,
     "metadata": {},
     "output_type": "execute_result"
    }
   ],
   "source": [
    "lst = tab_transformation(f, 100, 2, 4)\n",
    "widgets.interact(reverse_laguerre_transformation, lst=widgets.fixed(lst), t=(0,10,1), beta=widgets.fixed(2), sigma=widgets.fixed(4))"
   ]
  },
  {
   "cell_type": "code",
   "execution_count": 16,
   "id": "39eaca8c-0538-4593-8ba4-d1f920643849",
   "metadata": {
    "tags": []
   },
   "outputs": [],
   "source": [
    "# Task 7\n",
    "def plot_laguerre(T, N, beta=2, sigma=4):\n",
    "    fig = plt.figure(figsize=(10, 10))\n",
    "    ax = fig.gca()\n",
    "    for n in range(N+1):\n",
    "        values = tabulate_laguerre(n, T, beta, sigma)\n",
    "        ax.plot(values['tab'], values['result'], label=f\"n={n}\")\n",
    "    \n",
    "    ax.set_xlabel(\"t\")\n",
    "    ax.set_ylabel(\"l(t)\")\n",
    "    fig.legend(loc='lower center', ncol=4)\n",
    "    plt.show()\n"
   ]
  },
  {
   "cell_type": "code",
   "execution_count": 17,
   "id": "97d3645c-d020-4d6d-8e7b-5fdbf14e1aea",
   "metadata": {
    "tags": []
   },
   "outputs": [
    {
     "data": {
      "application/vnd.jupyter.widget-view+json": {
       "model_id": "3ebd2f40522249dd8c596ea8f6317c21",
       "version_major": 2,
       "version_minor": 0
      },
      "text/plain": [
       "interactive(children=(FloatSlider(value=10.0, description='T', max=20.0, step=0.25), IntSlider(value=15, descr…"
      ]
     },
     "metadata": {},
     "output_type": "display_data"
    },
    {
     "data": {
      "text/plain": [
       "<function __main__.plot_laguerre(T, N, beta=2, sigma=4)>"
      ]
     },
     "execution_count": 17,
     "metadata": {},
     "output_type": "execute_result"
    }
   ],
   "source": [
    "\n",
    "widgets.interact(plot_laguerre, T=(0.0, 20.0, 0.25), N=(0, 30, 1), beta=(0, 4, 0.1), sigma=(0, 4, 0.1))"
   ]
  },
  {
   "cell_type": "code",
   "execution_count": 18,
   "id": "3cdfe023-0ef6-4e10-81ca-f25f3bfe2e60",
   "metadata": {
    "tags": []
   },
   "outputs": [],
   "source": [
    "# Task 8\n",
    "def plot_transformation(f, n, T, beta=2, sigma=4):\n",
    "    fig = plt.figure(figsize=(10, 10))\n",
    "    ax = fig.gca()\n",
    "    values = tab_transformation(f, T, n, beta, sigma)\n",
    "    ax.bar(range(1, n+1), values)\n",
    "\n",
    "    ax.set_xlabel(\"n\")\n",
    "    ax.set_ylabel(\"f_n\")\n",
    "    ax.set_title(\"Laguerre Transformation\")\n",
    "    plt.axhline(0, color='black')\n",
    "    plt.show()"
   ]
  },
  {
   "cell_type": "code",
   "execution_count": 19,
   "id": "396fec10-c6e1-4018-8316-18a0f4b03d83",
   "metadata": {
    "tags": []
   },
   "outputs": [
    {
     "data": {
      "application/vnd.jupyter.widget-view+json": {
       "model_id": "f0879e4380fe4aeb88cdb6da8f953044",
       "version_major": 2,
       "version_minor": 0
      },
      "text/plain": [
       "interactive(children=(IntSlider(value=15, description='n', max=30), FloatSlider(value=10.0, description='T', m…"
      ]
     },
     "metadata": {},
     "output_type": "display_data"
    },
    {
     "data": {
      "text/plain": [
       "<function __main__.plot_transformation(f, n, T, beta=2, sigma=4)>"
      ]
     },
     "execution_count": 19,
     "metadata": {},
     "output_type": "execute_result"
    }
   ],
   "source": [
    "widgets.interact(plot_transformation, f=widgets.fixed(f), T=(0.0, 20.0, 0.25), n=(0, 30, 1), beta=(0, 6, 0.1), sigma=(0, 6, 0.1))"
   ]
  },
  {
   "cell_type": "code",
   "execution_count": 20,
   "id": "c2e2d1fb-728d-4fa3-86b4-0bb1bd3d291b",
   "metadata": {
    "tags": []
   },
   "outputs": [],
   "source": [
    "def plot_tranformations(f, n, T, beta=2, sigma=4, t1=0, t2=2*np.pi):\n",
    "\n",
    "    transform_values = tab_transformation(f, T, n, beta, sigma)\n",
    "    reversed_transform_values = [reverse_laguerre_transformation(transform_values, t, beta, sigma) for t in np.linspace(t1, t2, 1000)]\n",
    "\n",
    "    fig = plt.figure(figsize=(10, 10))\n",
    "    ax = fig.subplots(2, 1)\n",
    "    ax[0].bar(range(1, n+1), transform_values, alpha=0.7, edgecolor='black')\n",
    "\n",
    "    ax[0].set_xlabel(\"n\")\n",
    "    ax[0].set_ylabel(\"f_n\")\n",
    "    ax[0].set_title(\"Transformation coefs\")\n",
    "    ax[0].set_xticks(range(1, n+1))\n",
    "    fig.tight_layout()\n",
    "    ax[0].axhline(0, color='black')\n",
    "\n",
    "    ax[1].plot(np.linspace(t1, t2, 1000), reversed_transform_values, alpha=0.7, linewidth=2.0)\n",
    "    ax[1].set_xlabel(\"t\")\n",
    "    ax[1].set_ylabel(\"f(t)\")\n",
    "    ax[1].set_title(\"Reversed transformation\")\n",
    "\n",
    "    plt.show()"
   ]
  },
  {
   "cell_type": "code",
   "execution_count": 21,
   "id": "e5d3f1ec-c2ea-4a48-8ed0-f5a48e24b742",
   "metadata": {
    "tags": []
   },
   "outputs": [
    {
     "data": {
      "application/vnd.jupyter.widget-view+json": {
       "model_id": "2a939fa71d3c43e0b5be040d85a7e29c",
       "version_major": 2,
       "version_minor": 0
      },
      "text/plain": [
       "interactive(children=(IntSlider(value=15, description='n', max=30), FloatSlider(value=10.0, description='T', m…"
      ]
     },
     "metadata": {},
     "output_type": "display_data"
    },
    {
     "data": {
      "text/plain": [
       "<function __main__.plot_tranformations(f, n, T, beta=2, sigma=4, t1=0, t2=6.283185307179586)>"
      ]
     },
     "execution_count": 21,
     "metadata": {},
     "output_type": "execute_result"
    }
   ],
   "source": [
    "widgets.interact(plot_tranformations, f=widgets.fixed(f),  T=(0.0, 20.0, 0.25), n=(0, 30, 1), beta=(0, 6, 0.1), sigma=(0, 6, 0.1), t1=(-5*np.pi, 5*np.pi, np.pi), t2=(-5*np.pi, 5*np.pi, np.pi))"
   ]
  },
  {
   "cell_type": "code",
   "execution_count": null,
   "id": "c21cb01e-3f4a-4c12-ab46-dab5226bc2cf",
   "metadata": {},
   "outputs": [],
   "source": []
  },
  {
   "cell_type": "code",
   "execution_count": null,
   "id": "99a33fe3-d7d3-4b4e-99f9-9e1e677e7a6f",
   "metadata": {},
   "outputs": [],
   "source": []
  },
  {
   "cell_type": "code",
   "execution_count": null,
   "id": "0077b56d-0a80-4947-a8e9-3fcf44ed7a23",
   "metadata": {},
   "outputs": [],
   "source": []
  }
 ],
 "metadata": {
  "kernelspec": {
   "display_name": "Python 3 (ipykernel)",
   "language": "python",
   "name": "python3"
  },
  "language_info": {
   "codemirror_mode": {
    "name": "ipython",
    "version": 3
   },
   "file_extension": ".py",
   "mimetype": "text/x-python",
   "name": "python",
   "nbconvert_exporter": "python",
   "pygments_lexer": "ipython3",
   "version": "3.11.4"
  }
 },
 "nbformat": 4,
 "nbformat_minor": 5
}
